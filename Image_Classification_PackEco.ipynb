{
  "nbformat": 4,
  "nbformat_minor": 0,
  "metadata": {
    "colab": {
      "name": "Image Classification_PackEco.ipynb",
      "provenance": [],
      "collapsed_sections": [],
      "include_colab_link": true
    },
    "kernelspec": {
      "name": "python3",
      "display_name": "Python 3"
    },
    "language_info": {
      "name": "python"
    },
    "accelerator": "GPU"
  },
  "cells": [
    {
      "cell_type": "markdown",
      "metadata": {
        "id": "view-in-github",
        "colab_type": "text"
      },
      "source": [
        "<a href=\"https://colab.research.google.com/github/milleniana/OrionTech-PackEco/blob/masters/Image_Classification_PackEco.ipynb\" target=\"_parent\"><img src=\"https://colab.research.google.com/assets/colab-badge.svg\" alt=\"Open In Colab\"/></a>"
      ]
    },
    {
      "cell_type": "markdown",
      "metadata": {
        "id": "UpIBf0oDrR5p"
      },
      "source": [
        "# Set Up"
      ]
    },
    {
      "cell_type": "code",
      "metadata": {
        "id": "0uHGPwPARUOg"
      },
      "source": [
        "import os\n",
        "import zipfile\n",
        "import shutil\n",
        "import numpy as np\n",
        "import tensorflow as tf\n",
        "from tensorflow import keras\n",
        "from tensorflow.keras import layers\n",
        "from tensorflow.keras.applications.mobilenet_v2 import MobileNetV2\n",
        "from tensorflow.keras.optimizers import Adam\n",
        "import matplotlib.image  as mpimg\n",
        "import matplotlib.pyplot as plt\n",
        "%matplotlib inline"
      ],
      "execution_count": null,
      "outputs": []
    },
    {
      "cell_type": "markdown",
      "metadata": {
        "id": "YodFqVtfYEQs"
      },
      "source": [
        "# Acquiring Data"
      ]
    },
    {
      "cell_type": "code",
      "metadata": {
        "id": "SXVZeE1kReuS"
      },
      "source": [
        "! KAGGLE_CONFIG_DIR=/content/ kaggle datasets download kmader/food41"
      ],
      "execution_count": null,
      "outputs": []
    },
    {
      "cell_type": "code",
      "metadata": {
        "id": "h5MmXsBQRtMa"
      },
      "source": [
        "!chmod 600 kaggle.json && (ls ~/.kaggle 2>/dev/null || mkdir ~/.kaggle) && mv kaggle.json ~/.kaggle/ && echo 'Done'"
      ],
      "execution_count": null,
      "outputs": []
    },
    {
      "cell_type": "markdown",
      "metadata": {
        "id": "l_zteRVLu3XF"
      },
      "source": [
        "# Generate Dataset"
      ]
    },
    {
      "cell_type": "code",
      "metadata": {
        "id": "l5CZlbf3RlQQ"
      },
      "source": [
        "#unzip dataset\n",
        "local_zip = '/content/food41.zip'\n",
        "zip_ref = zipfile.ZipFile(local_zip, 'r')\n",
        "zip_ref.extractall('/content')\n",
        "zip_ref.close()"
      ],
      "execution_count": null,
      "outputs": []
    },
    {
      "cell_type": "code",
      "metadata": {
        "id": "bZrzdM5-T2Vy"
      },
      "source": [
        "print(len(os.listdir('/content/images/chicken_curry')))\n",
        "print(len(os.listdir('/content/images/hot_and_sour_soup/')))\n",
        "print(len(os.listdir('/content/images/ramen/')))\n",
        "print(len(os.listdir('/content/images/donuts/')))\n",
        "print(len(os.listdir('/content/images/fried_rice/')))\n",
        "print(len(os.listdir('/content/images/hamburger/')))"
      ],
      "execution_count": null,
      "outputs": []
    },
    {
      "cell_type": "code",
      "metadata": {
        "id": "h7tC7qKpomc5"
      },
      "source": [
        "# make new directory for necessary dataset\n",
        "\n",
        "os.mkdir('/tmp/makanan-basah-vs-makanan-kering')\n",
        "os.mkdir('/tmp/makanan-basah-vs-makanan-kering/basah')\n",
        "os.mkdir('/tmp/makanan-basah-vs-makanan-kering/kering')"
      ],
      "execution_count": null,
      "outputs": []
    },
    {
      "cell_type": "code",
      "metadata": {
        "id": "hVITGaeMnq_r"
      },
      "source": [
        "# move necessary data to makanan basah directory\n",
        "source_b1 = r'/content/images/chicken_curry'\n",
        "source_b2 = r'/content/images/hot_and_sour_soup'\n",
        "source_b3  = r'/content/images/ramen'\n",
        "destination_b = r'/tmp/makanan-basah-vs-makanan-kering/basah'\n",
        "\n",
        "def path(SOURCE, DESTINATION):\n",
        "  files = os.listdir(SOURCE)\n",
        "  for file in files:\n",
        "    new_path = shutil.move(f\"{SOURCE}/{file}\", DESTINATION)\n",
        "    print(new_path)\n",
        "\n",
        "path(source_b1, destination_b)\n",
        "path(source_b2, destination_b)\n",
        "path(source_b3, destination_b)"
      ],
      "execution_count": null,
      "outputs": []
    },
    {
      "cell_type": "code",
      "metadata": {
        "id": "SeYNAeiIo-w-"
      },
      "source": [
        "# move necessary files to makanan kering directory\n",
        "source_k1 = r'/content/images/donuts'\n",
        "source_k2 = r'/content/images/fried_rice'\n",
        "source_k3  = r'/content/images/hamburger'\n",
        "destination_k = r'/tmp/makanan-basah-vs-makanan-kering/kering'\n",
        "\n",
        "def path(SOURCE, DESTINATION):\n",
        "  files = os.listdir(SOURCE)\n",
        "  for file in files:\n",
        "    new_path = shutil.move(f\"{SOURCE}/{file}\", DESTINATION)\n",
        "    print(new_path)\n",
        "\n",
        "path(source_k1, destination_k)\n",
        "path(source_k2, destination_k)\n",
        "path(source_k3, destination_k)"
      ],
      "execution_count": null,
      "outputs": []
    },
    {
      "cell_type": "markdown",
      "metadata": {
        "id": "sttWcs_EuzbJ"
      },
      "source": [
        "# Visualize Dataset"
      ]
    },
    {
      "cell_type": "code",
      "metadata": {
        "id": "PRGCC-COhbxz"
      },
      "source": [
        "plt.figure(figsize=(10, 10))\n",
        "for images, labels in destination_k.take(1):\n",
        "    for i in range(9):\n",
        "        ax = plt.subplot(3, 3, i + 1)\n",
        "        plt.imshow(images[i].numpy().astype(\"uint8\"))\n",
        "        plt.title(int(labels[i]))\n",
        "        plt.axis(\"off\")"
      ],
      "execution_count": null,
      "outputs": []
    },
    {
      "cell_type": "markdown",
      "metadata": {
        "id": "QR5S166Wrg5X"
      },
      "source": [
        "# Data Preprocessing"
      ]
    },
    {
      "cell_type": "code",
      "metadata": {
        "id": "TFizJmUgZ5Ek"
      },
      "source": [
        "dataset_folder = '/tmp/makanan-basah-vs-makanan-kering'\n",
        "image_size = (224, 224)\n",
        "\n",
        "train_ds = tf.keras.preprocessing.image_dataset_from_directory(\n",
        "    dataset_folder,\n",
        "    labels='inferred',\n",
        "    label_mode='binary',\n",
        "    batch_size=32,\n",
        "    image_size=image_size,\n",
        "    shuffle=True,\n",
        "    seed=1002,\n",
        "    validation_split=0.2,\n",
        "    subset=\"training\")\n",
        "\n",
        "val_ds = tf.keras.preprocessing.image_dataset_from_directory(\n",
        "    dataset_folder,\n",
        "    labels='inferred',\n",
        "    label_mode='binary',\n",
        "    batch_size=32,\n",
        "    seed=1002,\n",
        "    image_size=image_size,\n",
        "    validation_split=0.2,\n",
        "    subset=\"validation\")"
      ],
      "execution_count": null,
      "outputs": []
    },
    {
      "cell_type": "markdown",
      "metadata": {
        "id": "2lYilWEX5rbH"
      },
      "source": [
        "# Data Augmentation"
      ]
    },
    {
      "cell_type": "code",
      "metadata": {
        "id": "6dxCO3hUvHWx"
      },
      "source": [
        "data_augmentation = keras.Sequential(\n",
        "    [\n",
        "     layers.experimental.preprocessing.Rescaling(scale=1./255),\n",
        "     layers.experimental.preprocessing.Normalization(),\n",
        "     layers.experimental.preprocessing.RandomFlip(\"horizontal\"),\n",
        "     layers.experimental.preprocessing.RandomRotation(0.4),\n",
        "     layers.experimental.preprocessing.RandomZoom(height_factor=(0.1, 0.3), width_factor=(0.1, 0.3)),\n",
        "     layers.experimental.preprocessing.RandomHeight(factor=(0.1, 0.2)),\n",
        "     layers.experimental.preprocessing.RandomWidth(factor=(0.1, 0.2))\n",
        "    ]\n",
        ")"
      ],
      "execution_count": null,
      "outputs": []
    },
    {
      "cell_type": "code",
      "metadata": {
        "id": "zsb4ef6S3Veh"
      },
      "source": [
        "augmented_train_ds = train_ds.map(\n",
        "  lambda x, y: (data_augmentation(x, training=True), y))\n"
      ],
      "execution_count": null,
      "outputs": []
    },
    {
      "cell_type": "code",
      "metadata": {
        "id": "b6Hx0C8kvRHa"
      },
      "source": [
        "plt.figure(figsize=(10, 10))\n",
        "for images, _ in train_ds.take(1):\n",
        "    for i in range(9):\n",
        "        augmented_images = data_augmentation(images)\n",
        "        ax = plt.subplot(3, 3, i + 1)\n",
        "        plt.imshow(augmented_images[0].numpy())\n",
        "        plt.axis(\"off\")"
      ],
      "execution_count": null,
      "outputs": []
    },
    {
      "cell_type": "markdown",
      "metadata": {
        "id": "kz7_F___z6Ys"
      },
      "source": [
        "# Configure Dataset for Performance"
      ]
    },
    {
      "cell_type": "code",
      "metadata": {
        "id": "oHLgnGSWz9sp"
      },
      "source": [
        "AUTOTUNE = tf.data.AUTOTUNE\n",
        "\n",
        "train_ds = train_ds.cache().prefetch(buffer_size=AUTOTUNE)\n",
        "val_ds = val_ds.cache().prefetch(buffer_size=AUTOTUNE)"
      ],
      "execution_count": null,
      "outputs": []
    },
    {
      "cell_type": "markdown",
      "metadata": {
        "id": "xNXnx78UYeKE"
      },
      "source": [
        "# Transfer Learning"
      ]
    },
    {
      "cell_type": "markdown",
      "metadata": {
        "id": "DIZYiWQZefaN"
      },
      "source": [
        "## Build The Model"
      ]
    },
    {
      "cell_type": "code",
      "metadata": {
        "id": "73Q6dsXn2GP6"
      },
      "source": [
        "base_model = MobileNetV2(input_shape=(224, 224, 3), input_tensor=None, weights='imagenet', include_top=False)\n",
        "\n",
        "base_model.trainable = False"
      ],
      "execution_count": null,
      "outputs": []
    },
    {
      "cell_type": "code",
      "metadata": {
        "id": "6m3Yeud1Q_QW"
      },
      "source": [
        "inputs = keras.Input(shape=(224, 224, 3))\n",
        "x = base_model(inputs, training=False)\n",
        "x = data_augmentation(inputs)\n",
        "\n",
        "x = base_model(x, training=False)\n",
        "x = keras.layers.GlobalAveragePooling2D()(x)\n",
        "x = keras.layers.Dropout(0.2)(x)\n",
        "\n",
        "outputs = keras.layers.Dense(1)(x)\n",
        "model = keras.Model(inputs, outputs)"
      ],
      "execution_count": null,
      "outputs": []
    },
    {
      "cell_type": "code",
      "metadata": {
        "id": "qqCAZ6FlboRf"
      },
      "source": [
        "base_model.trainable = True\n",
        "model.summary()"
      ],
      "execution_count": null,
      "outputs": []
    },
    {
      "cell_type": "markdown",
      "metadata": {
        "id": "IoBSAcbmD9yG"
      },
      "source": [
        "## Training and Validating"
      ]
    },
    {
      "cell_type": "code",
      "metadata": {
        "id": "9k77d6d2b-1Y"
      },
      "source": [
        "model.compile(optimizer = keras.optimizers.Adam(1e-5),\n",
        "              loss = keras.losses.BinaryCrossentropy(from_logits=True),\n",
        "              metrics = ['accuracy'])"
      ],
      "execution_count": null,
      "outputs": []
    },
    {
      "cell_type": "code",
      "metadata": {
        "id": "kJvh6MRNGAbz"
      },
      "source": [
        "history = model.fit(train_ds,\n",
        "                    epochs = 10,\n",
        "                    validation_data = val_ds)"
      ],
      "execution_count": null,
      "outputs": []
    },
    {
      "cell_type": "markdown",
      "metadata": {
        "id": "3sofKW0e5i08"
      },
      "source": [
        "## Model Evaluation"
      ]
    },
    {
      "cell_type": "code",
      "metadata": {
        "id": "IThP_Hrja1pp"
      },
      "source": [
        "acc=history.history['accuracy']\n",
        "val_acc=history.history['val_accuracy']\n",
        "loss=history.history['loss']\n",
        "val_loss=history.history['val_loss']\n",
        "\n",
        "epochs=range(len(acc)) # Get number of epochs\n",
        "\n",
        "#Plot training accuracy and validation accuracy per epoch\n",
        "\n",
        "plt.plot(epochs, acc, 'r')\n",
        "plt.plot(epochs, val_acc, 'b')\n",
        "plt.title('Training and validation accuracy')\n",
        "plt.xlabel('epochs')\n",
        "plt.ylabel('accuracy')\n",
        "plt.legend(['Training Accuracy', 'Validation Accuracy'])\n",
        "plt.figure()"
      ],
      "execution_count": null,
      "outputs": []
    },
    {
      "cell_type": "code",
      "metadata": {
        "id": "PNw10L51bVjt"
      },
      "source": [
        "#Plot training loss and validation loss per epoch\n",
        "\n",
        "plt.plot(epochs, loss, 'r')\n",
        "plt.plot(epochs, val_loss, 'b')\n",
        "plt.title('Training Loss and Validation Loss')\n",
        "plt.xlabel('epochs')\n",
        "plt.ylabel('loss')\n",
        "plt.legend(['Training Accuracy', 'Validation Accuracy'])\n",
        "plt.figure()"
      ],
      "execution_count": null,
      "outputs": []
    },
    {
      "cell_type": "markdown",
      "metadata": {
        "id": "J6pcf9pNiwWp"
      },
      "source": [
        "## Predicting Image"
      ]
    },
    {
      "cell_type": "code",
      "metadata": {
        "id": "_5c6iVTrBkfk"
      },
      "source": [
        "img = keras.preprocessing.image.load_img(\n",
        "    \"/content/images/miso_soup/1049083.jpg\", target_size=image_size\n",
        ")\n",
        "img_array = keras.preprocessing.image.img_to_array(img)\n",
        "img_array = tf.expand_dims(img_array, 0)\n",
        "imgplot = plt.imshow(img)\n",
        "plt.axis('off')\n",
        "\n",
        "predictions = model.predict(img_array)\n",
        "score = predictions[0]\n",
        "\n",
        "# convert score to the absolute value\n",
        "b = abs(1-score)\n",
        "k = abs(score)\n",
        "\n",
        "# predict result\n",
        "if b > k:\n",
        "  print(\"Makanan Basah\")\n",
        "else:\n",
        "  print(\"Makanan Kering\")"
      ],
      "execution_count": null,
      "outputs": []
    }
  ]
}